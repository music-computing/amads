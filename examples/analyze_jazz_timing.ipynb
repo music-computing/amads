{
 "cells": [
  {
   "metadata": {},
   "cell_type": "markdown",
   "source": [
    "# Analyzing jazz recordings from the `Jazz-Trio-Database`\n",
    "Author: [Huw Cheston](https://huwcheston.github.io)\n",
    "\n",
    "This notebook walks through a few basic features for analyzing rhythm and timing in jazz, using data from the Jazz Trio Database [1]. The predictive modelling aspect is inspired by [2].\n",
    "\n",
    "*References:*\n",
    "\n",
    "[1] Cheston, H., Schlichting, J.L., Cross, I. and Harrison, P.M.C. (2024) Jazz Trio Database:\n",
    "Automated Annotation of Jazz Piano Trio Recordings Processed Using Audio Source Separation.\n",
    "Transactions of the International Society for Music Information Retrieval, 7/1 (pp. 144–158).\n",
    "\n",
    "[2] Cheston, H., Schlichting, J. L., Cross, I., & Harrison, P. M. C. (2024). Rhythmic qualities of jazz\n",
    "improvisation predict performer identity and style in source-separated audio recordings. Royal Society\n",
    "Open Science. 11/11."
   ],
   "id": "8d2c9b869ec61b6c"
  },
  {
   "metadata": {},
   "cell_type": "markdown",
   "source": "## Import dependencies, set constants",
   "id": "22ab963ee92a9a8f"
  },
  {
   "metadata": {
    "ExecuteTime": {
     "end_time": "2024-12-04T15:44:10.385137Z",
     "start_time": "2024-12-04T15:44:08.145133Z"
    }
   },
   "cell_type": "code",
   "source": [
    "import os\n",
    "import json\n",
    "import requests\n",
    "import numpy as np\n",
    "import matplotlib.pyplot as plt\n",
    "import scipy.stats as stats\n",
    "from zipfile import ZipFile\n",
    "\n",
    "from musmart.timing.swing import beat_upbeat_ratio\n",
    "from musmart.timing.tempo_modeling import tempo_slope, tempo_fluctuation, tempo_drift"
   ],
   "id": "c2a7267c5e02d53b",
   "outputs": [
    {
     "name": "stdout",
     "output_type": "stream",
     "text": [
      "Defined boundary as musmart.boundary in lazy_modules\n",
      "Defined break_it_up as musmart.break_it_up in lazy_modules\n",
      "Defined durdist1 as musmart.durdist1 in lazy_modules\n",
      "Defined durdist2 as musmart.durdist2 in lazy_modules\n",
      "Defined entropy as musmart.entropy in lazy_modules\n",
      "Defined hz2midi as musmart.hz2midi in lazy_modules\n",
      "Defined ismonophonic as musmart.ismonophonic in lazy_modules\n",
      "Defined ivdirdist1 as musmart.ivdirdist1 in lazy_modules\n",
      "Defined ivdist1 as musmart.ivdist1 in lazy_modules\n",
      "Defined ivdist2 as musmart.ivdist2 in lazy_modules\n",
      "Defined ivsizedist1 as musmart.ivsizedist1 in lazy_modules\n",
      "Defined nnotes as musmart.nnotes in lazy_modules\n",
      "Defined pcdist1 as musmart.pcdist1 in lazy_modules\n",
      "Defined pcdist2 as musmart.pcdist2 in lazy_modules\n",
      "Defined pc_set_functions as musmart.pc_set_functions in lazy_modules\n",
      "Defined pitchmean as musmart.pitchmean in lazy_modules\n",
      "Defined pitch_list_transformations as musmart.pitch_list_transformations in lazy_modules\n",
      "Defined pitch_mean as musmart.pitch_mean in lazy_modules\n",
      "Defined scale as musmart.scale in lazy_modules\n",
      "Defined segmentgestalt as musmart.segmentgestalt in lazy_modules\n",
      "Defined skyline as musmart.skyline in lazy_modules\n",
      "Defined __init__ as musmart.__init__ in lazy_modules\n",
      "Defined pianoroll as musmart.pianoroll in lazy_modules\n",
      "Defined plotdist as musmart.plotdist in lazy_modules\n",
      "Defined ptscoreread as musmart.ptscoreread in lazy_modules\n",
      "Defined pt_midi_import as musmart.pt_midi_import in lazy_modules\n",
      "Defined pt_xml_import as musmart.pt_xml_import in lazy_modules\n",
      "Defined __init__ as musmart.__init__ in lazy_modules\n",
      "Defined example as musmart.example in lazy_modules\n",
      "Defined key_profiles_literature as musmart.key_profiles_literature in lazy_modules\n",
      "Defined partimenti as musmart.partimenti in lazy_modules\n",
      "Defined pc_sets as musmart.pc_sets in lazy_modules\n",
      "Defined __init__ as musmart.__init__ in lazy_modules\n"
     ]
    }
   ],
   "execution_count": 1
  },
  {
   "metadata": {
    "ExecuteTime": {
     "end_time": "2024-12-04T15:44:12.001841Z",
     "start_time": "2024-12-04T15:44:10.458296Z"
    }
   },
   "cell_type": "code",
   "source": [
    "# This notebook requires statsmodels to create a predictive model\n",
    "# This is NOT part of the current installation of the package\n",
    "import statsmodels.api as sm"
   ],
   "id": "7cdb879dc84777f9",
   "outputs": [],
   "execution_count": 2
  },
  {
   "metadata": {},
   "cell_type": "markdown",
   "source": [
    "## Pull data from JTD\n",
    "\n",
    "We need to download the JTD data first. This consists of multiple recordings, with each recording containing onset timestamps for the piano instrument. \n",
    "\n",
    "These are split into `beats`, which are those onsets which can be matched with a timestamp from an external beat tracker, and `onsets`, which is just every onset regardless of if it can be matched."
   ],
   "id": "c9e593747016f999"
  },
  {
   "metadata": {
    "ExecuteTime": {
     "end_time": "2024-12-04T15:44:25.676600Z",
     "start_time": "2024-12-04T15:44:12.414284Z"
    }
   },
   "cell_type": "code",
   "source": [
    "url = \"https://github.com/HuwCheston/Jazz-Trio-Database/releases/download/v02/jazz-trio-database-v02.zip\" \n",
    "zip_file_path = \"jtd.zip\"\n",
    "# Download the file\n",
    "response = requests.get(url)\n",
    "with open(zip_file_path, \"wb\") as file:\n",
    "    file.write(response.content)# Ensure it exists\n",
    "# Extract the zip file\n",
    "with ZipFile(zip_file_path, 'r') as zip_ref:\n",
    "    zip_ref.extractall(\"\")"
   ],
   "id": "845d40a6f2846252",
   "outputs": [],
   "execution_count": 3
  },
  {
   "metadata": {},
   "cell_type": "markdown",
   "source": [
    "## Get data from target performers\n",
    "We'll get data for tracks by Bill Evans and Oscar Peterson.\n",
    "\n",
    "For our purposes, we can also split `onsets` into `upbeats`, which are those onsets *not* contained in `beats`."
   ],
   "id": "49b837dec645593e"
  },
  {
   "metadata": {
    "ExecuteTime": {
     "end_time": "2024-12-04T15:44:25.707997Z",
     "start_time": "2024-12-04T15:44:25.701495Z"
    }
   },
   "cell_type": "code",
   "source": [
    "def load_data(track_loc: str) -> tuple[np.ndarray, np.ndarray]:\n",
    "    \"\"\"Given the name of a track, return arrays of piano beats and piano onsets\"\"\"\n",
    "    # Define names of csv files\n",
    "    beats_file = os.path.join(os.getcwd(), 'jazz-trio-database-v02', track_loc, 'beats.csv')\n",
    "    onsets_file = os.path.join(os.getcwd(), 'jazz-trio-database-v02', track_loc, 'piano_onsets.csv')\n",
    "    # Load csv files into numpy arrays\n",
    "    bea = np.genfromtxt(beats_file, delimiter=',')[1:, 2]    # this is the column for piano quarter notes\n",
    "    onse = np.genfromtxt(onsets_file)\n",
    "    # Split `onsets` into `upbeats` (i.e., every onset that doesn't mark a beat)\n",
    "    upbea = onse[~np.isin(onse, bea)]\n",
    "    return upbea, bea"
   ],
   "id": "ece69d8e0faad16b",
   "outputs": [],
   "execution_count": 4
  },
  {
   "metadata": {
    "ExecuteTime": {
     "end_time": "2024-12-04T15:44:28.055538Z",
     "start_time": "2024-12-04T15:44:25.722497Z"
    }
   },
   "cell_type": "code",
   "source": [
    "evans_beats, evans_upbeats = [], []\n",
    "peterson_beats, peterson_upbeats = [], []\n",
    "\n",
    "for track_folder in os.listdir('jazz-trio-database-v02'):\n",
    "    metadata_file = os.path.join(os.getcwd(), 'jazz-trio-database-v02', track_folder, 'metadata.json')\n",
    "    if os.path.isfile(metadata_file):\n",
    "        # Load the metadata json and get the name of the pianist\n",
    "        metadata_loaded = json.load(open(metadata_file, 'r'))\n",
    "        pianist = metadata_loaded['musicians']['pianist']\n",
    "        # Load data for the pianists we want\n",
    "        if pianist == \"Bill Evans\" or pianist == \"Oscar Peterson\":\n",
    "            upbeat, beat = load_data(track_folder)\n",
    "            # Append to required list\n",
    "            if pianist == \"Bill Evans\":\n",
    "                evans_beats.append(beat)\n",
    "                evans_upbeats.append(upbeat)\n",
    "            elif pianist == \"Oscar Peterson\":\n",
    "                peterson_beats.append(beat)\n",
    "                peterson_upbeats.append(upbeat)\n"
   ],
   "id": "77211c31ebd0a133",
   "outputs": [],
   "execution_count": 5
  },
  {
   "metadata": {},
   "cell_type": "markdown",
   "source": [
    "## Plot features for a single track\n",
    "\n",
    "Start by extracting beat-upbeat ratio"
   ],
   "id": "30fc628499bbd684"
  },
  {
   "metadata": {
    "ExecuteTime": {
     "end_time": "2024-12-04T15:44:28.095997Z",
     "start_time": "2024-12-04T15:44:28.089505Z"
    }
   },
   "cell_type": "code",
   "source": [
    "# Just use a single track\n",
    "desired_beats, desired_upbeats = evans_beats[0], evans_upbeats[0]"
   ],
   "id": "1fce7de6f3073b5b",
   "outputs": [],
   "execution_count": 6
  },
  {
   "metadata": {
    "ExecuteTime": {
     "end_time": "2024-12-04T15:45:54.679463Z",
     "start_time": "2024-12-04T15:45:54.671464Z"
    }
   },
   "cell_type": "code",
   "source": [
    "# Calculate BUR for the first upbeat following each beat\n",
    "burs = beat_upbeat_ratio(\n",
    "    beats=desired_beats, \n",
    "    upbeats=desired_upbeats, \n",
    "    allow_multiple_burs_per_beat=False\n",
    ")\n",
    "# For simplicity, clean BURs between 0.25 and 4.0\n",
    "burs = [b for b in burs if (0.25 < b < 4.)]"
   ],
   "id": "aeab96f5de34feb6",
   "outputs": [
    {
     "name": "stdout",
     "output_type": "stream",
     "text": [
      "[0.631578947368421, 0.8823529411764706, 1.0769230769230762, 0.6666666666666652, 0.7857142857142898, 0.6666666666666683, 1.2499999999999982, 0.75, 0.866666666666669, 0.8666666666666639, 0.5, 0.6470588235294139, 0.8749999999999972, 0.9999999999999937, 0.6666666666666726, 0.8124999999999987, 0.8124999999999931, 0.9375000000000013, 0.3750000000000028, 0.9374999999999903, 0.8571428571428608, 1.3076923076922993, 0.7142857142857306, 2.3749999999999916, 2.222222222222218, 0.6470588235294191, 1.3333333333333255, 1.0, 0.7647058823529645, 0.6249999999999861, 0.7058823529411543, 0.7058823529411753, 0.8000000000000143, 0.5294117647058872, 2.374999999999917, 1.9999999999999645, 2.1111111111111285, 2.3750000000000666, 0.5000000000000089, 0.6111111111111089, 2.500000000000089, 0.4444444444444554, 0.5263157894736694, 0.5, 0.5263157894736694, 0.4736842105263207, 2.1111111111111285, 0.7142857142857046, 1.0909090909091055, 0.8000000000000143, 0.8124999999999931, 0.9333333333333239, 0.8000000000000143, 0.9999999999999746, 0.928571428571443, 0.6000000000000048, 0.6000000000000071, 1.0, 0.6874999999999959, 0.933333333333346, 1.0, 1.181818181818179, 0.6250000000000083, 1.3636363636363578, 0.5263157894736783, 2.3333333333334387, 0.5882352941176495, 0.75, 0.7999999999999526, 0.7500000000000444, 0.7333333333333365, 0.5555555555555644, 0.42105263157894346, 0.8666666666666919, 0.6250000000000222, 0.7647058823529486, 2.500000000000089, 0.5882352941176495, 2.2500000000000444, 0.62499999999995, 0.4736842105262843, 1.153846153846238, 0.38888888888889106, 2.375000000000022, 0.8749999999999833, 0.8666666666666919, 0.8571428571428354, 0.7222222222222375, 0.7999999999999905, 0.7333333333333365, 0.823529411764701, 0.8571428571428354, 0.8124999999999528, 0.8749999999999833, 1.0833333333333777, 0.5294117647059192, 0.6470588235294019, 0.7999999999999905, 0.933333333333346, 1.2499999999999407, 0.9230769230768853, 0.7333333333333839, 1.2307692307693023, 0.7142857142856708, 0.7058823529411962, 0.7999999999999905, 0.5333333333333744, 1.1333333333333555, 1.1666666666666963, 0.7142857142857215, 1.076923076923119, 0.6874999999999806, 0.6250000000000222, 0.5882352941176495, 1.600000000000199, 1.500000000000142, 1.3636363636362931, 1.3000000000001706, 1.4999999999997868, 1.0, 1.0000000000000948, 1.1666666666666272, 0.6875000000000111, 0.5294117647058971, 0.6250000000000666, 0.7500000000000444, 0.6875000000000111, 0.8666666666666035, 0.5882352941176077, 0.6666666666665877, 0.5882352941176913, 0.5882352941176077, 0.7500000000000444, 2.222222222222012, 0.9090909090909913, 0.8666666666667804, 0.8124999999999889, 1.3333333333332544, 1.1538461538460025, 1.153846153846238, 0.9285714285713923, 0.9285714285714938, 0.8124999999999889, 0.68749999999995, 0.8750000000000222, 0.9285714285713923, 0.8666666666666035, 2.2499999999999556, 1.545454545454569, 0.6875000000000111, 0.749999999999889, 0.5499999999999894, 0.7999999999999052, 3.3333333333332544, 0.9090909090908621, 1.111111111111006, 0.8571428571429731, 2.3749999999996003, 3.1250000000000666, 1.100000000000057, 1.545454545454569, 0.5882352941176077, 0.6666666666666035]\n"
     ]
    }
   ],
   "execution_count": 10
  },
  {
   "metadata": {
    "ExecuteTime": {
     "end_time": "2024-12-04T15:45:59.335878Z",
     "start_time": "2024-12-04T15:45:59.065855Z"
    }
   },
   "cell_type": "code",
   "source": [
    "# Plot the BURs\n",
    "plt.hist(burs, bins=30)\n",
    "ax = plt.gca()\n",
    "ax.set(xlabel='Beat-upbeat ratio', ylabel='Count')\n",
    "plt.show()"
   ],
   "id": "4e7e2091da6589d3",
   "outputs": [
    {
     "data": {
      "text/plain": [
       "<Figure size 640x480 with 1 Axes>"
      ],
      "image/png": "[encoded data removed]"
     },
     "metadata": {},
     "output_type": "display_data"
    }
   ],
   "execution_count": 11
  },
  {
   "metadata": {},
   "cell_type": "markdown",
   "source": "Most BURs are around 1.0, but we also have peaks at 2.0 (i.e., \"triplet 8ths\") which is consistent with previous research",
   "id": "57da2283117307fa"
  },
  {
   "metadata": {},
   "cell_type": "markdown",
   "source": [
    "## Plot features for several tracks\n",
    "We can plot the distribution of tempo slope values here"
   ],
   "id": "9caf55b141861e21"
  },
  {
   "metadata": {
    "ExecuteTime": {
     "end_time": "2024-12-04T15:46:01.886502Z",
     "start_time": "2024-12-04T15:46:01.670449Z"
    }
   },
   "cell_type": "code",
   "source": "slopes = np.array([tempo_slope(b) for b in evans_beats])",
   "id": "76ff241a2fbf72c3",
   "outputs": [],
   "execution_count": 12
  },
  {
   "metadata": {
    "ExecuteTime": {
     "end_time": "2024-12-04T15:46:03.047227Z",
     "start_time": "2024-12-04T15:46:02.912725Z"
    }
   },
   "cell_type": "code",
   "source": [
    "# Plot the slopes\n",
    "plt.hist(slopes, bins=30)\n",
    "ax = plt.gca()\n",
    "ax.set(xlabel='Tempo slopes (BPM/s)', ylabel='Count')\n",
    "plt.show()"
   ],
   "id": "62a6a1ca1ada09a9",
   "outputs": [
    {
     "data": {
      "text/plain": [
       "<Figure size 640x480 with 1 Axes>"
      ],
      "image/png": "[encoded data removed]"
     },
     "metadata": {},
     "output_type": "display_data"
    }
   ],
   "execution_count": 13
  },
  {
   "metadata": {},
   "cell_type": "markdown",
   "source": "Results are very clustered around 0 (i.e., no change in tempo), with a slight tendency towards acceleration. Again, this is consistent with previous work.",
   "id": "901cda2071fc7be6"
  },
  {
   "metadata": {},
   "cell_type": "markdown",
   "source": [
    "## Create dataset\n",
    "We're going to extract the following features from each track\n",
    "- Average BUR\n",
    "- Standard deviation BUR\n",
    "- Tempo slope\n",
    "- Tempo drift\n",
    "- Tempo fluctuation\n",
    "\n",
    "and use these to predict whether a track is by Oscar Peterson or Bill Evans"
   ],
   "id": "e04ba54b6fbc3851"
  },
  {
   "metadata": {
    "ExecuteTime": {
     "end_time": "2024-12-04T15:46:08.174524Z",
     "start_time": "2024-12-04T15:46:08.167488Z"
    }
   },
   "cell_type": "code",
   "source": [
    "def construct_features(track_upbeats: np.array, track_beats: np.array) -> np.array:\n",
    "    \"\"\"Given non-beat onsets and beat onsets for a track, construct features\"\"\"\n",
    "    # Calculate BUR for the first upbeat following each beat\n",
    "    burs = beat_upbeat_ratio(\n",
    "        beats=track_beats, \n",
    "        upbeats=track_upbeats, \n",
    "        allow_multiple_burs_per_beat=False\n",
    "    )\n",
    "    # For simplicity, clean BURs between 0.25 and 4.0\n",
    "    burs = [b for b in burs if (0.25 < b < 4.)]\n",
    "    # Get mean and SD BUR\n",
    "    mean_bur, sd_bur = np.nanmean(burs), np.nanstd(burs)\n",
    "    # Get remaining tempo features\n",
    "    slope = tempo_slope(track_beats)\n",
    "    drift = tempo_drift(track_beats)\n",
    "    fluct = tempo_fluctuation(track_beats)\n",
    "    # Create vector of features\n",
    "    return np.array([mean_bur, sd_bur, slope, drift, fluct])\n",
    "    "
   ],
   "id": "52d5b7c24f845932",
   "outputs": [],
   "execution_count": 15
  },
  {
   "metadata": {
    "ExecuteTime": {
     "end_time": "2024-12-04T15:46:08.686152Z",
     "start_time": "2024-12-04T15:46:08.642150Z"
    }
   },
   "cell_type": "code",
   "source": [
    "performer_upbeats = [evans_upbeats, peterson_upbeats]\n",
    "performer_beats = [evans_beats, peterson_beats]\n",
    "\n",
    "features, targets = [], []\n",
    "# Assign 0 to Evans, 1 to Peterson\n",
    "for perf_idx in range(len(performer_upbeats)):\n",
    "    # Iterate over every track by the current performer\n",
    "    for perf_upbeat, perf_beat in zip(performer_upbeats[perf_idx], performer_beats[perf_idx]):\n",
    "        x_vect = construct_features(perf_upbeat, perf_beat)\n",
    "        # Append everything to lists\n",
    "        features.append(x_vect)\n",
    "        targets.append(perf_idx)    # 0 = Evans, 1 = Peterson\n",
    "# Stack to create arrays for modeling\n",
    "x = np.stack(features)    # (n_tracks, n_features)\n",
    "y = np.array(targets)    # (n_tracks,)\n",
    "assert x.shape[0] == y.shape[0]"
   ],
   "id": "c3ae735471f82a3e",
   "outputs": [
    {
     "ename": "TypeError",
     "evalue": "'<' not supported between instances of 'list' and 'int'",
     "output_type": "error",
     "traceback": [
      "\u001B[1;31m---------------------------------------------------------------------------\u001B[0m",
      "\u001B[1;31mTypeError\u001B[0m                                 Traceback (most recent call last)",
      "Cell \u001B[1;32mIn[16], line 9\u001B[0m\n\u001B[0;32m      6\u001B[0m \u001B[38;5;28;01mfor\u001B[39;00m perf_idx \u001B[38;5;129;01min\u001B[39;00m \u001B[38;5;28mrange\u001B[39m(\u001B[38;5;28mlen\u001B[39m(performer_upbeats)):\n\u001B[0;32m      7\u001B[0m     \u001B[38;5;66;03m# Iterate over every track by the current performer\u001B[39;00m\n\u001B[0;32m      8\u001B[0m     \u001B[38;5;28;01mfor\u001B[39;00m perf_upbeat, perf_beat \u001B[38;5;129;01min\u001B[39;00m \u001B[38;5;28mzip\u001B[39m(performer_upbeats[perf_idx], performer_beats[perf_idx]):\n\u001B[1;32m----> 9\u001B[0m         x_vect \u001B[38;5;241m=\u001B[39m \u001B[43mconstruct_features\u001B[49m\u001B[43m(\u001B[49m\u001B[43mperf_upbeat\u001B[49m\u001B[43m,\u001B[49m\u001B[43m \u001B[49m\u001B[43mperf_beat\u001B[49m\u001B[43m)\u001B[49m\n\u001B[0;32m     10\u001B[0m         \u001B[38;5;66;03m# Append everything to lists\u001B[39;00m\n\u001B[0;32m     11\u001B[0m         features\u001B[38;5;241m.\u001B[39mappend(x_vect)\n",
      "Cell \u001B[1;32mIn[15], line 10\u001B[0m, in \u001B[0;36mconstruct_features\u001B[1;34m(track_upbeats, track_beats)\u001B[0m\n\u001B[0;32m      4\u001B[0m burs \u001B[38;5;241m=\u001B[39m beat_upbeat_ratio(\n\u001B[0;32m      5\u001B[0m     beats\u001B[38;5;241m=\u001B[39mtrack_beats, \n\u001B[0;32m      6\u001B[0m     upbeats\u001B[38;5;241m=\u001B[39mtrack_upbeats, \n\u001B[0;32m      7\u001B[0m     allow_multiple_burs_per_beat\u001B[38;5;241m=\u001B[39m\u001B[38;5;28;01mFalse\u001B[39;00m\n\u001B[0;32m      8\u001B[0m )\n\u001B[0;32m      9\u001B[0m \u001B[38;5;66;03m# For simplicity, clean BURs between 0.25 and 4.0\u001B[39;00m\n\u001B[1;32m---> 10\u001B[0m burs \u001B[38;5;241m=\u001B[39m burs[(\u001B[43mburs\u001B[49m\u001B[43m \u001B[49m\u001B[38;5;241;43m<\u001B[39;49m\u001B[43m \u001B[49m\u001B[38;5;241;43m4\u001B[39;49m) \u001B[38;5;241m&\u001B[39m (burs \u001B[38;5;241m>\u001B[39m \u001B[38;5;241m0.25\u001B[39m)]\n\u001B[0;32m     11\u001B[0m \u001B[38;5;66;03m# Get mean and SD BUR\u001B[39;00m\n\u001B[0;32m     12\u001B[0m mean_bur, sd_bur \u001B[38;5;241m=\u001B[39m np\u001B[38;5;241m.\u001B[39mnanmean(burs), np\u001B[38;5;241m.\u001B[39mnanstd(burs)\n",
      "\u001B[1;31mTypeError\u001B[0m: '<' not supported between instances of 'list' and 'int'"
     ]
    }
   ],
   "execution_count": 16
  },
  {
   "metadata": {},
   "cell_type": "markdown",
   "source": [
    "## Modelling\n",
    "We'll start with creating a simple logistic regression here"
   ],
   "id": "7edc2987ba5dec1"
  },
  {
   "metadata": {
    "ExecuteTime": {
     "end_time": "2024-12-04T15:44:29.650995500Z",
     "start_time": "2024-12-04T13:11:11.707501Z"
    }
   },
   "cell_type": "code",
   "source": [
    "# Scale the feature set using z-score\n",
    "x_scale = np.apply_along_axis(stats.zscore, 0, x)\n",
    "# Add a constant term to the model\n",
    "x_const = sm.add_constant(x_scale)"
   ],
   "id": "aeccce121ac08f27",
   "outputs": [],
   "execution_count": 12
  },
  {
   "metadata": {},
   "cell_type": "code",
   "source": [
    "# Fit the model\n",
    "md = sm.Logit(y, x_const).fit()\n",
    "print(md.summary())"
   ],
   "id": "3acd7e0287dcefda",
   "outputs": [],
   "execution_count": null
  },
  {
   "metadata": {
    "ExecuteTime": {
     "end_time": "2024-12-04T15:44:29.652494900Z",
     "start_time": "2024-12-04T13:11:11.930501Z"
    }
   },
   "cell_type": "code",
   "source": [
    "# Make predictions of training data\n",
    "yhat = md.predict(x_const) \n",
    "prediction = list(map(round, yhat)) \n",
    "# Get accuracy as number of correct predictions\n",
    "acc = sum([pred == actual for pred, actual in zip(prediction, y)]) / len(y)\n",
    "acc"
   ],
   "id": "83f55c79ea4dab8b",
   "outputs": [
    {
     "data": {
      "text/plain": [
       "np.float64(0.8176943699731903)"
      ]
     },
     "execution_count": 14,
     "metadata": {},
     "output_type": "execute_result"
    }
   ],
   "execution_count": 14
  },
  {
   "metadata": {},
   "cell_type": "markdown",
   "source": "OK, so we were correct approximately 82% of the times in classifying Oscar Peterson or Bill Evans tracks using these features",
   "id": "eec0ee3676b245d6"
  }
 ],
 "metadata": {
  "kernelspec": {
   "display_name": "Python 3",
   "language": "python",
   "name": "python3"
  },
  "language_info": {
   "codemirror_mode": {
    "name": "ipython",
    "version": 2
   },
   "file_extension": ".py",
   "mimetype": "text/x-python",
   "name": "python",
   "nbconvert_exporter": "python",
   "pygments_lexer": "ipython2",
   "version": "2.7.6"
  }
 },
 "nbformat": 4,
 "nbformat_minor": 5
}
