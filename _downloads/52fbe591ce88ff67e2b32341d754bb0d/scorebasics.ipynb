{
  "cells": [
    {
      "cell_type": "markdown",
      "metadata": {},
      "source": [
        "\n# Score Creation and Manipulation Example\n\nThis example demonstrates ways to create and populate Score objects\nusing the AMADS library.\n"
      ]
    },
    {
      "cell_type": "code",
      "execution_count": null,
      "metadata": {
        "collapsed": false
      },
      "outputs": [],
      "source": [
        "from amads.core.basics import Measure, Note, Part, Rest, Score, Staff\nfrom amads.core.timemap import TimeMap\n\n\"\"\"\nLet's begin by creating the simplest kind of score:\na flattened score with a single part. We'll use the\n\"declarative\" style using nested constructors. Since\nNote onsets are not specified, Notes will be arranged\nsequentially.\n\nThe score will be C-G-C with 2 quarters followed by a half\nnote. (The default duration of a Note is 1 quarter == 1)\n\"\"\"\n\nscore = Score(Part(Note(pitch=\"C5\"), Note(pitch=\"G4\"), Note(pitch=\"C5\", duration=2)))\n\nscore.show()\n\n\"\"\"\nThe result of pack is to place the notes consecutively, but what\nif we want something different? Here is the same score, but the\nfirst two notes are eighth notes followed by eighth rests.\n\"\"\"\nscore = Score(\n    Part(\n        Note(pitch=\"C5\", duration=0.5),\n        Rest(duration=0.5),\n        Note(pitch=\"G4\", duration=0.5),\n        Rest(duration=0.5),\n        Note(pitch=\"C5\", duration=2),\n    )\n)\nscore.show()\n\n\"\"\"\nA well-formed flattened score does not have Rest objects, so we need\na different approach to create a proper flattened score. To make a\nflattened score (no Rests) but with non-consecutive notes, onsets\nare made explicit.\n\"\"\"\nscore = Score(\n    Part(\n        Note(pitch=\"C5\", duration=0.5),\n        Note(onset=1, pitch=\"G4\", duration=0.5),\n        Note(onset=2, pitch=\"C5\", duration=2.0),\n    )\n)\nscore.show()\n\n\"\"\"\nThe same technique can be used to create overlapping notes. Here is\na tritone resolution: F and B to E and C in two half-note chords.\n\"\"\"\nscore = Score(\n    Part(\n        Note(onset=0, pitch=\"F4\", duration=2),\n        Note(onset=0, pitch=\"B4\", duration=2),\n        Note(onset=2, pitch=\"E4\", duration=2),\n        Note(onset=2, pitch=\"C5\", duration=2),\n    )\n)\nscore.show()\n\n\"\"\"\nTaking a more computational approach, we can compute a score\nrather than writing out each object separately. Generally,\nthe declarative style does not work well for computed scores,\nso we will build the score from the bottom up. Here is a\nchromatic scale in quarter notes, starting at C4 and ending\non a whole note at C5.\n\"\"\"\npart = Part()\nfor i in range(12):  # another octave for a whole note\n    note = Note(parent=part, onset=i, pitch=60 + i)\n# create a whole note at the end of the last note:\nnote = Note(parent=part, onset=note.offset, pitch=\"C5\", duration=4)\n# not strictly necessary, but since part.duration is not updated\n# when content is added, we set it explicitly here:\npart.duration = note.offset\nscore = Score(part)  # put the part into a score\nscore.show()\n\n\"\"\"\nNow, create a full score with Part, Staff, and Measure objects\nusing the declarative approach.\n\"\"\"\nscore = Score(\n    Part(\n        Staff(\n            Measure(\n                Note(pitch=\"C5\"),\n                Note(pitch=\"D4\"),\n                Note(pitch=\"E4\", duration=2),\n                pack=True,\n            )\n        )\n    )\n)\nscore.show()\n\n\"\"\"\nHere is a slightly more complex example with multiple staves and parts.\n\"\"\"\n\nscore = Score(\n    Part(\n        Staff(\n            Measure(Note(pitch=\"C5\", duration=2), Note(pitch=\"B4\", duration=2)),\n            Measure(Note(pitch=\"C5\", duration=4)),\n        ),\n        instrument=\"Flute\",\n    ),\n    Part(\n        Staff(\n            Measure(Note(pitch=\"E4\", duration=2), Note(pitch=\"F4\", duration=2)),\n            Measure(Note(pitch=\"E4\", duration=4)),\n        ),\n        Staff(\n            Measure(Note(pitch=\"C4\", duration=2), Note(pitch=\"G3\", duration=2)),\n            Measure(Note(pitch=\"C3\", duration=4)),\n        ),\n        instrument=\"Piano\",\n    ),\n)\n\nscore.show()\n\n\"\"\"\nGiven a full score, we often want to extract a selected set of notes.\nHere are just the flute notes from the previous score.\n\"\"\"\n\n# collapse_parts both flattens and selects notes:\nflute_score = score.collapse_parts(part=\"Flute\")\nprint(\"Flute notes:\")\nfor note in flute_score.find_all(Note):\n    note.show(indent=4)  # prints all notes in the flute part\n\n\"\"\"\nRather than flute_score.find_all(Note), you can also write\nflute_score.list_all(Note) which returns a list rather than\na generator. Since the score is already flattened by collapse_parts,\nyou can also access the notes directly using\nflute_score.content[0].content, which retrieves the first part's content.\n\"\"\"\n\n\"\"\"\nWhen accessing notes in a full score with multiple parts, find_all()\nand list_all() will return all notes in the order of part, staff and\nmeasure, not in time order. You can get notes in time order using\nget_sorted_notes(). Here are short programs to list all notes in\nboth part order and time order.\n\"\"\"\n\nprint(\"Full score notes in part order:\")\nfor note in score.find_all(Note):\n    note.show(indent=4)\nprint(\"Full score notes in time order:\")\nfor note in score.get_sorted_notes():\n    note.show(indent=4)\n\n\"\"\"\nSometimes, you want to use time in seconds rather than in quarters.\nYou can convert a score to seconds easily. This is an *in-place*\nchange, modifying the score object. You can revert to beats as shown.\n\"\"\"\nprint(\"Is the score in quarters?\", score.units_are_quarters)\nscore.convert_to_seconds()\nprint(\"Is the score now in seconds?\", score.units_are_seconds)\nprint(\"Full score notes in time order (seconds):\")\nfor note in score.get_sorted_notes():\n    note.show(indent=4)\n# revert to quarters\nscore.convert_to_quarters()\nprint(\"Is the score back in quarters?\", score.units_are_quarters)\n\n\"\"\"\nYou can change the tempo at any time and as often as you like.\nAs in MIDI files, there are no continuous tempo changes, but you\ncan get the effect by changing the tempo at every quarter or even\nfiner division.\n\nTempo changes do not affect times in the score, so if units are\nquarters, a faster tempo will make the notes shorter in seconds,\nbut if units are seconds, the notes will remain the same length\nin seconds, so their durations in quarters will be increased.\n\nThis example doubles the tempo of the score. When we convert to\nseconds, the notes will be half as long in seconds.\n\"\"\"\n\n# change the tempo\ntempo = score.time_map.beat_to_tempo(0)  # initial tempo\nprint(\"Initial tempo:\", tempo)\nscore.time_map = TimeMap(tempo * 2)  # double the tempo\nprint(\"New tempo:\", score.time_map.beat_to_tempo(0))\n# convert to seconds\nscore.convert_to_seconds()\nprint(\"Full score notes in time order (seconds, after tempo change):\")\nfor note in score.get_sorted_notes():\n    note.show(indent=4)\n# revert to quarters\nscore.convert_to_quarters()"
      ]
    }
  ],
  "metadata": {
    "kernelspec": {
      "display_name": "Python 3",
      "language": "python",
      "name": "python3"
    },
    "language_info": {
      "codemirror_mode": {
        "name": "ipython",
        "version": 3
      },
      "file_extension": ".py",
      "mimetype": "text/x-python",
      "name": "python",
      "nbconvert_exporter": "python",
      "pygments_lexer": "ipython3",
      "version": "3.10.18"
    }
  },
  "nbformat": 4,
  "nbformat_minor": 0
}