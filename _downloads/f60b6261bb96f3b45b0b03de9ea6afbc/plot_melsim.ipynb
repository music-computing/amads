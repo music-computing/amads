{
  "cells": [
    {
      "cell_type": "markdown",
      "metadata": {},
      "source": [
        "\n# Melodic similarity\n\nThis example demonstrates how we can calculate the similarity between two\nmelodies using the `melsim` module, which is a Python wrapper for the `melsim`\nR package (https://github.com/sebsilas/melsim).\n"
      ]
    },
    {
      "cell_type": "markdown",
      "metadata": {},
      "source": [
        "First, we'll import the required modules.\n\n"
      ]
    },
    {
      "cell_type": "code",
      "execution_count": null,
      "metadata": {
        "collapsed": false
      },
      "outputs": [],
      "source": [
        "from amads.core.basics import Score\nfrom amads.melody.similarity.melsim import (\n    check_r_packages_installed,\n    get_similarities,\n    get_similarity,\n)"
      ]
    },
    {
      "cell_type": "markdown",
      "metadata": {},
      "source": [
        "Check if all required dependencies are installed.\n\n"
      ]
    },
    {
      "cell_type": "code",
      "execution_count": null,
      "metadata": {
        "collapsed": false
      },
      "outputs": [],
      "source": [
        "def test_check_dependencies():\n    \"\"\"Check if R packages are installed.\"\"\"\n    try:\n        check_r_packages_installed(install_missing=True)\n        print(\"All R packages are installed.\")\n    except ImportError:\n        print(\n            \"Some R packages are missing. Please run install_dependencies() from the melsim module.\"\n        )\n\n\ntest_check_dependencies()"
      ]
    },
    {
      "cell_type": "markdown",
      "metadata": {},
      "source": [
        "Create example melodies for comparison. We'll start with a C major scale and\ncreate variations by altering different notes.\n\n"
      ]
    },
    {
      "cell_type": "code",
      "execution_count": null,
      "metadata": {
        "collapsed": false
      },
      "outputs": [],
      "source": [
        "# Create a C major scale melody (C4 to C5) with quarter note durations\nc_major_scale = Score.from_melody(\n    pitches=[60, 62, 64, 65, 67, 69, 71, 72], durations=1.0\n)\n\n# Create variations by altering different notes\nmodified_scale = Score.from_melody(\n    pitches=[60, 62, 64, 66, 67, 69, 71, 72], durations=1.0  # F4->F#4\n)\n\nthird_scale = Score.from_melody(\n    pitches=[60, 62, 64, 66, 67, 68, 71, 72], durations=1.0  # F4->F#4, A4->Ab4\n)\n\nfourth_scale = Score.from_melody(\n    pitches=[60, 62, 64, 66, 67, 68, 70, 72], durations=1.0  # F4->F#4, A4->Ab4, B4->Bb4\n)\n\nmelodies = {\n    \"c_major_scale\": c_major_scale,\n    \"modified_scale\": modified_scale,\n    \"third_scale\": third_scale,\n    \"fourth_scale\": fourth_scale,\n}"
      ]
    },
    {
      "cell_type": "markdown",
      "metadata": {},
      "source": [
        "Perform a simple similarity comparison between two melodies using Jaccard similarity.\n\n"
      ]
    },
    {
      "cell_type": "code",
      "execution_count": null,
      "metadata": {
        "collapsed": false
      },
      "outputs": [],
      "source": [
        "similarity = get_similarity(c_major_scale, modified_scale, \"Jaccard\", \"pitch\")\nprint(f\"Jaccard similarity between c_major_scale and modified_scale: {similarity}\")"
      ]
    },
    {
      "cell_type": "markdown",
      "metadata": {},
      "source": [
        "Now perform pairwise comparisons across all melodies using different similarity measures.\n\n"
      ]
    },
    {
      "cell_type": "code",
      "execution_count": null,
      "metadata": {
        "collapsed": false
      },
      "outputs": [],
      "source": [
        "similarity_measures = [\"cosine\", \"Simpson\"]\n\nfor method in similarity_measures:\n    # Use batch processing for efficiency\n    batch_results = get_similarities(melodies, method=method, transformation=\"pitch\")\n\n    # batch_results is now a single matrix (since single method/transformation)\n    print(f\"\\nPairwise {method} similarities:\")\n\n    # Display the similarity matrix\n    melody_names = list(melodies.keys())\n\n    # Print header\n    print(f\"{'':20}\", end=\"\")\n    for name in melody_names:\n        print(f\"{name:15}\", end=\"\")\n    print()\n\n    # Print matrix rows\n    for name1 in melody_names:\n        print(f\"{name1:20}\", end=\"\")\n        for name2 in melody_names:\n            similarity = batch_results[name1][name2]\n            print(f\"{similarity:15.4f}\", end=\"\")\n        print()"
      ]
    },
    {
      "cell_type": "markdown",
      "metadata": {},
      "source": [
        "Finally, explore other types of melodic similarity measures.\n\n"
      ]
    },
    {
      "cell_type": "code",
      "execution_count": null,
      "metadata": {
        "collapsed": false
      },
      "outputs": [],
      "source": [
        "# Compare intervallic similarity\nintervallic_sim = get_similarity(c_major_scale, modified_scale, \"Euclidean\", \"int\")\nprint(f\"\\nEuclidean intervallic similarity: {intervallic_sim}\")"
      ]
    },
    {
      "cell_type": "markdown",
      "metadata": {},
      "source": [
        "Compare IOI class similarity (expected to be 1 as IOIs are identical)\n\n"
      ]
    },
    {
      "cell_type": "code",
      "execution_count": null,
      "metadata": {
        "collapsed": false
      },
      "outputs": [],
      "source": [
        "ioi_sim = get_similarity(c_major_scale, modified_scale, \"Canberra\", \"ioi_class\")\nprint(f\"Canberra IOI class similarity: {ioi_sim}\")"
      ]
    },
    {
      "cell_type": "markdown",
      "metadata": {},
      "source": [
        "Compare using different transformations\n\n"
      ]
    },
    {
      "cell_type": "code",
      "execution_count": null,
      "metadata": {
        "collapsed": false
      },
      "outputs": [],
      "source": [
        "transformations = [\"pitch\", \"int\", \"parsons\", \"pc\"]\nprint(\"\\nSimilarity across different transformations:\")\nfor transformation in transformations:\n    sim = get_similarity(c_major_scale, modified_scale, \"Jaccard\", transformation)\n    print(f\"Jaccard {transformation} similarity: {sim:.4f}\")"
      ]
    },
    {
      "cell_type": "markdown",
      "metadata": {},
      "source": [
        "Comprehensive comparison using multiple methods and transformations\n\n"
      ]
    },
    {
      "cell_type": "code",
      "execution_count": null,
      "metadata": {
        "collapsed": false
      },
      "outputs": [],
      "source": [
        "print(\"\\nComprehensive comparison (multiple methods and transformations):\")\ncomprehensive_results = get_similarities(\n    {\"melody1\": c_major_scale, \"melody2\": modified_scale},\n    method=[\"Jaccard\", \"Dice\", \"cosine\", \"Euclidean\"],\n    transformation=[\"pitch\", \"int\", \"parsons\", \"pc\"],\n)\n\n# Display results in a formatted table\nprint(f\"{'Method':12} {'Transform':15} {'Similarity':>12}\")\nprint(\"-\" * 40)\nfor (method, transformation), matrix in comprehensive_results.items():\n    similarity = matrix[\"melody1\"][\"melody2\"]\n    print(f\"{method:12} {transformation:15} {similarity:12.4f}\")"
      ]
    }
  ],
  "metadata": {
    "kernelspec": {
      "display_name": "Python 3",
      "language": "python",
      "name": "python3"
    },
    "language_info": {
      "codemirror_mode": {
        "name": "ipython",
        "version": 3
      },
      "file_extension": ".py",
      "mimetype": "text/x-python",
      "name": "python",
      "nbconvert_exporter": "python",
      "pygments_lexer": "ipython3",
      "version": "3.10.18"
    }
  },
  "nbformat": 4,
  "nbformat_minor": 0
}